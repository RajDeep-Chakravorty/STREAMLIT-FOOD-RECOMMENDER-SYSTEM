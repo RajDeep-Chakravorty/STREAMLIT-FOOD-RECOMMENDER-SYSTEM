{
 "cells": [
  {
   "cell_type": "code",
   "execution_count": 7,
   "metadata": {},
   "outputs": [],
   "source": [
    "%store -r csr_dataset \n",
    "%store -r food \n",
    "%store -r ratings\n",
    "%store -r dataset\n",
    "%store -r model"
   ]
  },
  {
   "cell_type": "code",
   "execution_count": 10,
   "metadata": {},
   "outputs": [
    {
     "data": {
      "text/html": [
       "<div>\n",
       "<style scoped>\n",
       "    .dataframe tbody tr th:only-of-type {\n",
       "        vertical-align: middle;\n",
       "    }\n",
       "\n",
       "    .dataframe tbody tr th {\n",
       "        vertical-align: top;\n",
       "    }\n",
       "\n",
       "    .dataframe thead th {\n",
       "        text-align: right;\n",
       "    }\n",
       "</style>\n",
       "<table border=\"1\" class=\"dataframe\">\n",
       "  <thead>\n",
       "    <tr style=\"text-align: right;\">\n",
       "      <th></th>\n",
       "      <th>Food_ID</th>\n",
       "      <th>Name</th>\n",
       "      <th>C_Type</th>\n",
       "      <th>Veg_Non</th>\n",
       "      <th>Describe</th>\n",
       "    </tr>\n",
       "  </thead>\n",
       "  <tbody>\n",
       "    <tr>\n",
       "      <th>0</th>\n",
       "      <td>1</td>\n",
       "      <td>summer squash salad</td>\n",
       "      <td>Healthy Food</td>\n",
       "      <td>veg</td>\n",
       "      <td>white balsamic vinegar, lemon juice, lemon rin...</td>\n",
       "    </tr>\n",
       "    <tr>\n",
       "      <th>1</th>\n",
       "      <td>2</td>\n",
       "      <td>chicken minced salad</td>\n",
       "      <td>Healthy Food</td>\n",
       "      <td>non-veg</td>\n",
       "      <td>olive oil, chicken mince, garlic (minced), oni...</td>\n",
       "    </tr>\n",
       "    <tr>\n",
       "      <th>2</th>\n",
       "      <td>3</td>\n",
       "      <td>sweet chilli almonds</td>\n",
       "      <td>Snack</td>\n",
       "      <td>veg</td>\n",
       "      <td>almonds whole, egg white, curry leaves, salt, ...</td>\n",
       "    </tr>\n",
       "    <tr>\n",
       "      <th>3</th>\n",
       "      <td>4</td>\n",
       "      <td>tricolour salad</td>\n",
       "      <td>Healthy Food</td>\n",
       "      <td>veg</td>\n",
       "      <td>vinegar, honey/sugar, soy sauce, salt, garlic ...</td>\n",
       "    </tr>\n",
       "    <tr>\n",
       "      <th>4</th>\n",
       "      <td>5</td>\n",
       "      <td>christmas cake</td>\n",
       "      <td>Dessert</td>\n",
       "      <td>veg</td>\n",
       "      <td>christmas dry fruits (pre-soaked), orange zest...</td>\n",
       "    </tr>\n",
       "    <tr>\n",
       "      <th>...</th>\n",
       "      <td>...</td>\n",
       "      <td>...</td>\n",
       "      <td>...</td>\n",
       "      <td>...</td>\n",
       "      <td>...</td>\n",
       "    </tr>\n",
       "    <tr>\n",
       "      <th>304</th>\n",
       "      <td>305</td>\n",
       "      <td>sunga pork</td>\n",
       "      <td>Japanese</td>\n",
       "      <td>veg</td>\n",
       "      <td>curry</td>\n",
       "    </tr>\n",
       "    <tr>\n",
       "      <th>305</th>\n",
       "      <td>306</td>\n",
       "      <td>banana chips</td>\n",
       "      <td>Snack</td>\n",
       "      <td>veg</td>\n",
       "      <td>dried slices of bananas (fruits of herbaceous ...</td>\n",
       "    </tr>\n",
       "    <tr>\n",
       "      <th>306</th>\n",
       "      <td>307</td>\n",
       "      <td>bhurji- egg</td>\n",
       "      <td>Indian</td>\n",
       "      <td>non-veg</td>\n",
       "      <td>made using indian spices, onion, tomatoes, gre...</td>\n",
       "    </tr>\n",
       "    <tr>\n",
       "      <th>307</th>\n",
       "      <td>308</td>\n",
       "      <td>flattened rice / poha</td>\n",
       "      <td>Indian</td>\n",
       "      <td>veg</td>\n",
       "      <td>dehusked rice which is flattened into flat lig...</td>\n",
       "    </tr>\n",
       "    <tr>\n",
       "      <th>308</th>\n",
       "      <td>309</td>\n",
       "      <td>puffed rice</td>\n",
       "      <td>Snack</td>\n",
       "      <td>veg</td>\n",
       "      <td>grain made from rice; usually made by heating ...</td>\n",
       "    </tr>\n",
       "  </tbody>\n",
       "</table>\n",
       "<p>309 rows × 5 columns</p>\n",
       "</div>"
      ],
      "text/plain": [
       "     Food_ID                   Name        C_Type  Veg_Non  \\\n",
       "0          1    summer squash salad  Healthy Food      veg   \n",
       "1          2   chicken minced salad  Healthy Food  non-veg   \n",
       "2          3   sweet chilli almonds         Snack      veg   \n",
       "3          4        tricolour salad  Healthy Food      veg   \n",
       "4          5         christmas cake       Dessert      veg   \n",
       "..       ...                    ...           ...      ...   \n",
       "304      305             sunga pork      Japanese      veg   \n",
       "305      306           banana chips         Snack      veg   \n",
       "306      307            bhurji- egg        Indian  non-veg   \n",
       "307      308  flattened rice / poha        Indian      veg   \n",
       "308      309            puffed rice         Snack      veg   \n",
       "\n",
       "                                              Describe  \n",
       "0    white balsamic vinegar, lemon juice, lemon rin...  \n",
       "1    olive oil, chicken mince, garlic (minced), oni...  \n",
       "2    almonds whole, egg white, curry leaves, salt, ...  \n",
       "3    vinegar, honey/sugar, soy sauce, salt, garlic ...  \n",
       "4    christmas dry fruits (pre-soaked), orange zest...  \n",
       "..                                                 ...  \n",
       "304                                              curry  \n",
       "305  dried slices of bananas (fruits of herbaceous ...  \n",
       "306  made using indian spices, onion, tomatoes, gre...  \n",
       "307  dehusked rice which is flattened into flat lig...  \n",
       "308  grain made from rice; usually made by heating ...  \n",
       "\n",
       "[309 rows x 5 columns]"
      ]
     },
     "execution_count": 10,
     "metadata": {},
     "output_type": "execute_result"
    }
   ],
   "source": [
    "food"
   ]
  },
  {
   "cell_type": "code",
   "execution_count": 8,
   "metadata": {
    "id": "ub__WW8WS6lv"
   },
   "outputs": [],
   "source": [
    "import pandas as pd\n",
    "\n",
    "def food_recommendation(Food_Name):\n",
    "    n = 10\n",
    "    FoodList = food[food['Name'].str.contains(Food_Name)]  \n",
    "    if len(FoodList):        \n",
    "        Foodi= FoodList.iloc[0]['Food_ID']\n",
    "        Foodi = dataset[dataset['Food_ID'] == Foodi].index[0]\n",
    "        distances , indices = model.kneighbors(csr_dataset[Foodi],n_neighbors=n+1)    \n",
    "        Food_indices = sorted(list(zip(indices.squeeze().tolist(),distances.squeeze().tolist())),key=lambda x: x[1])[:0:-1]\n",
    "        Recommendations = []\n",
    "        for val in Food_indices:\n",
    "            Foodi = dataset.iloc[val[0]]['Food_ID']\n",
    "            i = food[food['Food_ID'] == Foodi].index\n",
    "            Recommendations.append({'Name':food.iloc[i]['Name'].values[0],'Distance':val[1]})\n",
    "        df = pd.DataFrame(Recommendations,index=range(1,n+1))\n",
    "        return df['Name']\n",
    "    else:\n",
    "        return \"No Similar Foods.\""
   ]
  },
  {
   "cell_type": "code",
   "execution_count": 9,
   "metadata": {
    "id": "ptKWvfyE0OGE"
   },
   "outputs": [
    {
     "data": {
      "text/plain": [
       "1                            chocolate appe\n",
       "2                          french pork chop\n",
       "3                                corn pulao\n",
       "4     surmai curry with lobster butter rice\n",
       "5                       apple and pear cake\n",
       "6                          lemon sushi cake\n",
       "7                   grilled lemon margarita\n",
       "8                    chocolate nero cookies\n",
       "9                               bhurji- egg\n",
       "10                       chocolate doughnut\n",
       "Name: Name, dtype: object"
      ]
     },
     "execution_count": 9,
     "metadata": {},
     "output_type": "execute_result"
    }
   ],
   "source": [
    "food_recommendation('summer squash salad')"
   ]
  }
 ],
 "metadata": {
  "colab": {
   "name": "cbfunction.ipynb",
   "provenance": []
  },
  "kernelspec": {
   "display_name": "Python 3 (ipykernel)",
   "language": "python",
   "name": "python3"
  },
  "language_info": {
   "codemirror_mode": {
    "name": "ipython",
    "version": 3
   },
   "file_extension": ".py",
   "mimetype": "text/x-python",
   "name": "python",
   "nbconvert_exporter": "python",
   "pygments_lexer": "ipython3",
   "version": "3.11.5"
  }
 },
 "nbformat": 4,
 "nbformat_minor": 4
}
