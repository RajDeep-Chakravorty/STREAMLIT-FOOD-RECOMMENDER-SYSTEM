{
 "cells": [
  {
   "cell_type": "code",
   "execution_count": 1,
   "metadata": {},
   "outputs": [],
   "source": [
    "#importing libraries\n",
    "import pandas as pd\n",
    "import numpy as np\n",
    "from scipy.sparse import csr_matrix\n",
    "from sklearn.neighbors import NearestNeighbors\n",
    "import matplotlib.pyplot as plt\n",
    "import seaborn as sns\n",
    "\n",
    "#loading files\n",
    "food = pd.read_csv(\"C:\\\\Users\\\\RAJDEEP CHAKRAVORTY\\\\Food-Recommendation-System\\\\input\\\\food.csv\")\n",
    "ratings = pd.read_csv(\"C:\\\\Users\\\\RAJDEEP CHAKRAVORTY\\\\Food-Recommendation-System\\\\input\\\\ratings.csv\")"
   ]
  },
  {
   "cell_type": "code",
   "execution_count": 2,
   "metadata": {
    "id": "rQepTWkDzktG"
   },
   "outputs": [],
   "source": [
    "dataset = ratings.pivot_table(index='Food_ID',columns='User_ID',values='Rating')"
   ]
  },
  {
   "cell_type": "code",
   "execution_count": 3,
   "metadata": {
    "id": "m4b2WAatzqkM"
   },
   "outputs": [],
   "source": [
    "dataset.fillna(0,inplace=True)"
   ]
  },
  {
   "cell_type": "code",
   "execution_count": 4,
   "metadata": {
    "id": "vK9-8t2xztVM"
   },
   "outputs": [],
   "source": [
    "csr_dataset = csr_matrix(dataset.values)\n",
    "dataset.reset_index(inplace=True)"
   ]
  },
  {
   "cell_type": "code",
   "execution_count": 5,
   "metadata": {},
   "outputs": [
    {
     "name": "stdout",
     "output_type": "stream",
     "text": [
      "Stored 'csr_dataset' (csr_matrix)\n",
      "Stored 'food' (DataFrame)\n",
      "Stored 'ratings' (DataFrame)\n",
      "Stored 'dataset' (DataFrame)\n"
     ]
    }
   ],
   "source": [
    "#for importing into a different file we first need to store it from this\n",
    "%store csr_dataset \n",
    "%store food \n",
    "%store ratings\n",
    "%store dataset"
   ]
  }
 ],
 "metadata": {
  "colab": {
   "name": "preprocessing.ipynb",
   "provenance": []
  },
  "kernelspec": {
   "display_name": "Python 3 (ipykernel)",
   "language": "python",
   "name": "python3"
  },
  "language_info": {
   "codemirror_mode": {
    "name": "ipython",
    "version": 3
   },
   "file_extension": ".py",
   "mimetype": "text/x-python",
   "name": "python",
   "nbconvert_exporter": "python",
   "pygments_lexer": "ipython3",
   "version": "3.11.5"
  }
 },
 "nbformat": 4,
 "nbformat_minor": 4
}
